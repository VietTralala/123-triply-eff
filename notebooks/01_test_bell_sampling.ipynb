{
 "cells": [
  {
   "cell_type": "code",
   "execution_count": 1,
   "metadata": {},
   "outputs": [],
   "source": [
    "import numpy as np\n",
    "from tqdm.auto import tqdm\n",
    "from src.quantum_states import create_ghz_density_matrix\n",
    "from src.bell_sampling import (\n",
    "    bell_measurement_probs,\n",
    "    sample_bell_measurement_binArr,\n",
    ")\n",
    "\n",
    "from src.paulis import generate_all_Ps, calc_pauli_vec, generate_all_Ps_stacked"
   ]
  },
  {
   "cell_type": "markdown",
   "metadata": {},
   "source": [
    "* we want fast routines to compute tr(PxP |B_ij><B_ij|)\n",
    "* for P some pauli op (multi qubit)\n",
    "* B_ij some bell state (multi qubit)\n",
    "* given: pauli string XYZ means XYZ XYZ is applied to 2-copy system a1,a2,a3,b1,b2,b3\n",
    "* ith index of B_ij"
   ]
  },
  {
   "cell_type": "code",
   "execution_count": 2,
   "metadata": {},
   "outputs": [],
   "source": [
    "# paulis\n",
    "px = np.array([[0, 1], [1, 0]])\n",
    "py = np.array([[0, -1j], [1j, 0]])\n",
    "pz = np.array([[1, 0], [0, -1]])\n",
    "pi = np.eye(2)\n",
    "\n",
    "paulis = {\"X\": px, \"Y\": py, \"Z\": pz, \"I\": pi}"
   ]
  },
  {
   "cell_type": "code",
   "execution_count": 3,
   "metadata": {},
   "outputs": [],
   "source": [
    "one = np.array([[0], [1]])\n",
    "zero = np.array([[1], [0]])\n",
    "\n",
    "# bell states\n",
    "basis_states = {\n",
    "    \"00\": np.kron(zero, zero),\n",
    "    \"01\": np.kron(zero, one),\n",
    "    \"10\": np.kron(one, zero),\n",
    "    \"11\": np.kron(one, one),\n",
    "}\n",
    "\n",
    "phip = (basis_states[\"00\"] + basis_states[\"11\"]) / np.sqrt(2)\n",
    "phim = (basis_states[\"00\"] - basis_states[\"11\"]) / np.sqrt(2)\n",
    "psip = (basis_states[\"01\"] + basis_states[\"10\"]) / np.sqrt(2)\n",
    "psim = (basis_states[\"01\"] - basis_states[\"10\"]) / np.sqrt(2)\n",
    "\n",
    "\n",
    "bell_states = {\n",
    "    \"phi+\": phip,  # 1\n",
    "    \"psi+\": psip,  # 2\n",
    "    \"phi-\": phim,  # 3\n",
    "    \"psi-\": psim,  # 4\n",
    "}\n",
    "bell_states_order = [\"phi+\", \"psi+\", \"phi-\", \"psi-\"]"
   ]
  },
  {
   "cell_type": "code",
   "execution_count": 4,
   "metadata": {},
   "outputs": [
    {
     "name": "stdout",
     "output_type": "stream",
     "text": [
      "tr(XX |Φ+><Φ+|) = 1\n",
      "tr(XX |Ψ+><Ψ+|) = 1\n",
      "tr(XX |Φ-><Φ-|) = -1\n",
      "tr(XX |Ψ-><Ψ-|) = -1\n",
      "tr(YY |Φ+><Φ+|) = -1\n",
      "tr(YY |Ψ+><Ψ+|) = 1\n",
      "tr(YY |Φ-><Φ-|) = 1\n",
      "tr(YY |Ψ-><Ψ-|) = -1\n",
      "tr(ZZ |Φ+><Φ+|) = 1\n",
      "tr(ZZ |Ψ+><Ψ+|) = -1\n",
      "tr(ZZ |Φ-><Φ-|) = 1\n",
      "tr(ZZ |Ψ-><Ψ-|) = -1\n",
      "tr(II |Φ+><Φ+|) = 1\n",
      "tr(II |Ψ+><Ψ+|) = 1\n",
      "tr(II |Φ-><Φ-|) = 1\n",
      "tr(II |Ψ-><Ψ-|) = 1\n"
     ]
    }
   ],
   "source": [
    "mapping1 = dict()\n",
    "for plabel, p in paulis.items():\n",
    "    for bidx, blabel in enumerate(bell_states_order):\n",
    "        b = bell_states[blabel]\n",
    "        val = np.trace(np.kron(p, p) @ np.outer(b, b.conj().T))\n",
    "        val = round(np.real(val).item())\n",
    "        # val = np.dot(b.conj().T, np.kron(p, p) @ b)\n",
    "        mapping1[(plabel, bidx)] = val\n",
    "\n",
    "        blabel = blabel.replace(\"phi\", \"Φ\")\n",
    "        blabel = blabel.replace(\"psi\", \"Ψ\")\n",
    "        print(f\"tr({plabel}{plabel} |{blabel}><{blabel}|) = {val}\")"
   ]
  },
  {
   "cell_type": "code",
   "execution_count": null,
   "metadata": {},
   "outputs": [],
   "source": []
  },
  {
   "cell_type": "code",
   "execution_count": null,
   "metadata": {},
   "outputs": [],
   "source": []
  },
  {
   "cell_type": "code",
   "execution_count": 5,
   "metadata": {},
   "outputs": [],
   "source": [
    "n = 3\n",
    "ghz = create_ghz_density_matrix(n)\n",
    "all_paulis = generate_all_Ps(n)\n",
    "labels, all_paulis_stacked = generate_all_Ps_stacked(n, all_paulis)"
   ]
  },
  {
   "cell_type": "code",
   "execution_count": 6,
   "metadata": {},
   "outputs": [],
   "source": [
    "pauli_vec_exact = calc_pauli_vec(ghz, all_paulis_stacked)"
   ]
  },
  {
   "cell_type": "code",
   "execution_count": 7,
   "metadata": {},
   "outputs": [
    {
     "data": {
      "text/plain": [
       "array([ 1.,  0.,  0.,  0.,  0.,  0.,  0.,  0.,  0.,  0.,  0.,  0.,  0.,\n",
       "        0.,  0.,  1.,  0.,  0.,  0.,  0.,  0.,  1.,  0.,  0.,  0.,  0.,\n",
       "       -1.,  0.,  0.,  0.,  0.,  0.,  0.,  0.,  0.,  0.,  0.,  0., -1.,\n",
       "        0.,  0., -1.,  0.,  0.,  0.,  0.,  0.,  0.,  0.,  0.,  0.,  1.,\n",
       "        0.,  0.,  0.,  0.,  0.,  0.,  0.,  0.,  1.,  0.,  0.,  0.])"
      ]
     },
     "execution_count": 7,
     "metadata": {},
     "output_type": "execute_result"
    }
   ],
   "source": [
    "pauli_vec_exact"
   ]
  },
  {
   "cell_type": "code",
   "execution_count": 8,
   "metadata": {},
   "outputs": [],
   "source": [
    "exp_exact = {l.item():up.item()**2 for up,l in zip(pauli_vec_exact, labels)}"
   ]
  },
  {
   "cell_type": "code",
   "execution_count": 9,
   "metadata": {},
   "outputs": [
    {
     "name": "stdout",
     "output_type": "stream",
     "text": [
      "Automatic pdb calling has been turned ON\n"
     ]
    }
   ],
   "source": [
    "%pdb on\n",
    "def compute_pauli_expectation(bell_samples, pauli_set, show_progress=True):\n",
    "    \"\"\"Compute the expectation value of Pauli operators using Monte Carlo approximation.\n",
    "    For all pauli operators P in pauli_set, we compute\n",
    "    E[tr(PxP |B_{a1,a2,a3,b1,b2,b3}><B_{a1,a2,a3,b1,b2,b3}|)]\n",
    "    which is an estimator for\n",
    "    |tr(P rho)|^2\n",
    "    \"\"\"\n",
    "    # Compute E[tr(PxP |B_{a1,a2,a3,b1,b2,b3}><B_{a1,a2,a3,b1,b2,b3}|)]\n",
    "    # use that P and B factorize: for example if we have 3 qubits and P = XZY\n",
    "    # PxP = XZYXZY so if we consider the subsystem (a1,b1)\n",
    "    # we have XX |B_{a1,b1}><B_{a1,b1}|\n",
    "    # and for (a2,b2): ZZ |B_{a2,b2}><B_{a2,b2}|\n",
    "    # and for (a3,b3): YY |B_{a3,b3}><B_{a3,b3}|\n",
    "    # expectation value factorizes: tr(PxP |B_{a1,a2,a3,b1,b2,b3}><B_{a1,a2,a3,b1,b2,b3}|)\n",
    "    # = tr(XX |B_{a1,b1}><B_{a1,b1}|) tr(ZZ |B_{a2,b2}><B_{a2,b2}|) tr(YY |B_{a3,b3}><B_{a3,b3}|)\n",
    "    # for 2qubit cases we precomputed the signs of every bell state with every pauli operator\n",
    "    # bell state order is Φ+, Ψ+, Φ-, Ψ-\n",
    "\n",
    "    # generated above in mapping1\n",
    "    mapping = {\n",
    "        (\"X\", 0): 1,\n",
    "        (\"X\", 1): 1,\n",
    "        (\"X\", 2): -1,\n",
    "        (\"X\", 3): -1,\n",
    "        (\"Y\", 0): -1,\n",
    "        (\"Y\", 1): 1,\n",
    "        (\"Y\", 2): 1,\n",
    "        (\"Y\", 3): -1,\n",
    "        (\"Z\", 0): 1,\n",
    "        (\"Z\", 1): -1,\n",
    "        (\"Z\", 2): 1,\n",
    "        (\"Z\", 3): -1,\n",
    "        (\"I\", 0): 1,\n",
    "        (\"I\", 1): 1,\n",
    "        (\"I\", 2): 1,\n",
    "        (\"I\", 3): 1,\n",
    "    }\n",
    "\n",
    "    nqubits = len(bell_samples[0]) // 2\n",
    "    # bell_states = build_full_bell_generation_circuit(nqubits)\n",
    "    expectations = {}\n",
    "\n",
    "    pauli_iterator = (\n",
    "        tqdm(\n",
    "            pauli_set.items(),\n",
    "            desc=\"Computing expectations\",\n",
    "            total=len(pauli_set),\n",
    "            leave=False,\n",
    "        )\n",
    "        if show_progress\n",
    "        else pauli_set.items()\n",
    "    )\n",
    "\n",
    "    # convert bell measurement bit string to 0,1,2,3 number indicating bell state\n",
    "    bidx_meas = 2*bell_samples[:, :nqubits] + bell_samples[:, nqubits:]\n",
    "\n",
    "    for label, _ in pauli_iterator:\n",
    "        vals = []\n",
    "        # PP = xp.kron(pauli, pauli) # dont need this anymore\n",
    "        sample_iterator = (\n",
    "            tqdm(bell_samples, desc=\"Computing samples\", leave=False)\n",
    "            if show_progress\n",
    "            else bell_samples\n",
    "        )\n",
    "\n",
    "        for midx, meas in enumerate(sample_iterator):\n",
    "            # Compute the expectation value of the Pauli operator\n",
    "            # meas is bitstring of length 2*nqubits\n",
    "            trPPBij_lookup = 1\n",
    "            for qidx in range(nqubits):\n",
    "                plabel = label[qidx]\n",
    "                bidx = 2*meas[qidx] + meas[nqubits+qidx] # bell state index for sample midx\n",
    "                trPPBij_lookup *= mapping[(plabel, bidx)]\n",
    "\n",
    "            vals.append(trPPBij_lookup)\n",
    "        expectations[label] = np.mean(vals)\n",
    "        # print(label, expectations[label], vals)\n",
    "\n",
    "    return expectations\n",
    "\n"
   ]
  },
  {
   "cell_type": "code",
   "execution_count": 10,
   "metadata": {},
   "outputs": [],
   "source": [
    "N = 1000\n",
    "meas_probs = bell_measurement_probs(ghz)\n",
    "meas = sample_bell_measurement_binArr(ghz, num_samples=N, probs=meas_probs)\n",
    "\n",
    "exp_mc = compute_pauli_expectation(meas, all_paulis, show_progress=False)"
   ]
  },
  {
   "cell_type": "code",
   "execution_count": 11,
   "metadata": {},
   "outputs": [
    {
     "name": "stdout",
     "output_type": "stream",
     "text": [
      "Mean squared residuals between exp_naive and exp_mc: 0.001104\n"
     ]
    }
   ],
   "source": [
    "# compare exp_naive and exp_mc\n",
    "residuals2 = []\n",
    "for plabel in all_paulis.keys():\n",
    "    residuals2.append((exp_exact[plabel] - exp_mc[plabel]) ** 2)\n",
    "\n",
    "print(f\"Mean squared residuals between exp_naive and exp_mc: {np.mean(residuals2)}\")\n"
   ]
  },
  {
   "cell_type": "code",
   "execution_count": null,
   "metadata": {},
   "outputs": [],
   "source": []
  },
  {
   "cell_type": "code",
   "execution_count": null,
   "metadata": {},
   "outputs": [],
   "source": []
  },
  {
   "cell_type": "code",
   "execution_count": null,
   "metadata": {},
   "outputs": [],
   "source": []
  }
 ],
 "metadata": {
  "kernelspec": {
   "display_name": ".venv",
   "language": "python",
   "name": "python3"
  },
  "language_info": {
   "codemirror_mode": {
    "name": "ipython",
    "version": 3
   },
   "file_extension": ".py",
   "mimetype": "text/x-python",
   "name": "python",
   "nbconvert_exporter": "python",
   "pygments_lexer": "ipython3",
   "version": "3.11.5"
  }
 },
 "nbformat": 4,
 "nbformat_minor": 2
}
